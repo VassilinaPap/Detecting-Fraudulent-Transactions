{
 "cells": [
  {
   "cell_type": "markdown",
   "metadata": {},
   "source": [
    "# Importing libraries"
   ]
  },
  {
   "cell_type": "code",
   "execution_count": 26,
   "metadata": {
    "ExecuteTime": {
     "end_time": "2021-10-29T15:16:24.897304Z",
     "start_time": "2021-10-29T15:16:24.887333Z"
    }
   },
   "outputs": [],
   "source": [
    "import pandas as pd\n",
    "import pyreadr\n",
    "from imblearn.over_sampling import SMOTE\n",
    "from sklearn.model_selection import train_test_split\n",
    "from sklearn.preprocessing import LabelEncoder\n",
    "from sklearn.naive_bayes import GaussianNB\n",
    "from sklearn.model_selection import cross_val_score\n",
    "from sklearn.metrics import recall_score\n",
    "from sklearn.metrics import precision_score\n",
    "from sklearn.metrics import f1_score\n",
    "from sklearn.metrics import accuracy_score\n",
    "from sklearn.model_selection import cross_validate\n",
    "from sklearn.metrics import classification_report\n",
    "from sklearn.metrics import confusion_matrix\n",
    "from sklearn.metrics import plot_confusion_matrix\n",
    "import seaborn as sns\n",
    "from matplotlib import pyplot as plt\n",
    "from sklearn.ensemble import AdaBoostClassifier\n",
    "from sklearn.semi_supervised import SelfTrainingClassifier\n",
    "from sklearn.metrics import make_scorer\n",
    "from sklearn.model_selection import KFold\n",
    "from numpy import concatenate\n",
    "from sklearn.neighbors import LocalOutlierFactor"
   ]
  },
  {
   "cell_type": "markdown",
   "metadata": {},
   "source": [
    "# Importing and organizing the data"
   ]
  },
  {
   "cell_type": "code",
   "execution_count": 2,
   "metadata": {
    "ExecuteTime": {
     "end_time": "2021-10-29T15:11:35.967955Z",
     "start_time": "2021-10-29T15:09:30.301712Z"
    }
   },
   "outputs": [
    {
     "data": {
      "text/plain": [
       "OrderedDict([('sales',\n",
       "                         ID   Prod  Quant      Val  Insp\n",
       "              0          v1     p1    182   1665.0  unkn\n",
       "              1          v2     p1   3072   8780.0  unkn\n",
       "              2          v3     p1  20393  76990.0  unkn\n",
       "              3          v4     p1    112   1100.0  unkn\n",
       "              4          v3     p1   6164  20260.0  unkn\n",
       "              ...       ...    ...    ...      ...   ...\n",
       "              401141  v5918  p4126    113   9330.0  unkn\n",
       "              401142  v2540  p4126    118   3355.0  unkn\n",
       "              401143  v5896  p4127    143   1835.0  unkn\n",
       "              401144  v1796  p4127    102   1445.0  unkn\n",
       "              401145  v2540  p4127    106   1275.0  unkn\n",
       "              \n",
       "              [401146 rows x 5 columns])])"
      ]
     },
     "execution_count": 2,
     "metadata": {},
     "output_type": "execute_result"
    }
   ],
   "source": [
    "# Load data\n",
    "robj = pyreadr.read_r('sales.RData')\n",
    "robj"
   ]
  },
  {
   "cell_type": "code",
   "execution_count": 3,
   "metadata": {
    "ExecuteTime": {
     "end_time": "2021-10-29T15:11:36.090627Z",
     "start_time": "2021-10-29T15:11:35.976932Z"
    },
    "scrolled": true
   },
   "outputs": [
    {
     "data": {
      "text/html": [
       "<div>\n",
       "<style scoped>\n",
       "    .dataframe tbody tr th:only-of-type {\n",
       "        vertical-align: middle;\n",
       "    }\n",
       "\n",
       "    .dataframe tbody tr th {\n",
       "        vertical-align: top;\n",
       "    }\n",
       "\n",
       "    .dataframe thead th {\n",
       "        text-align: right;\n",
       "    }\n",
       "</style>\n",
       "<table border=\"1\" class=\"dataframe\">\n",
       "  <thead>\n",
       "    <tr style=\"text-align: right;\">\n",
       "      <th></th>\n",
       "      <th>ID</th>\n",
       "      <th>Prod</th>\n",
       "      <th>Quant</th>\n",
       "      <th>Val</th>\n",
       "      <th>Insp</th>\n",
       "    </tr>\n",
       "  </thead>\n",
       "  <tbody>\n",
       "    <tr>\n",
       "      <th>0</th>\n",
       "      <td>v1</td>\n",
       "      <td>p1</td>\n",
       "      <td>182</td>\n",
       "      <td>1665.0</td>\n",
       "      <td>unkn</td>\n",
       "    </tr>\n",
       "    <tr>\n",
       "      <th>1</th>\n",
       "      <td>v2</td>\n",
       "      <td>p1</td>\n",
       "      <td>3072</td>\n",
       "      <td>8780.0</td>\n",
       "      <td>unkn</td>\n",
       "    </tr>\n",
       "    <tr>\n",
       "      <th>2</th>\n",
       "      <td>v3</td>\n",
       "      <td>p1</td>\n",
       "      <td>20393</td>\n",
       "      <td>76990.0</td>\n",
       "      <td>unkn</td>\n",
       "    </tr>\n",
       "    <tr>\n",
       "      <th>3</th>\n",
       "      <td>v4</td>\n",
       "      <td>p1</td>\n",
       "      <td>112</td>\n",
       "      <td>1100.0</td>\n",
       "      <td>unkn</td>\n",
       "    </tr>\n",
       "    <tr>\n",
       "      <th>4</th>\n",
       "      <td>v3</td>\n",
       "      <td>p1</td>\n",
       "      <td>6164</td>\n",
       "      <td>20260.0</td>\n",
       "      <td>unkn</td>\n",
       "    </tr>\n",
       "    <tr>\n",
       "      <th>...</th>\n",
       "      <td>...</td>\n",
       "      <td>...</td>\n",
       "      <td>...</td>\n",
       "      <td>...</td>\n",
       "      <td>...</td>\n",
       "    </tr>\n",
       "    <tr>\n",
       "      <th>401141</th>\n",
       "      <td>v5918</td>\n",
       "      <td>p4126</td>\n",
       "      <td>113</td>\n",
       "      <td>9330.0</td>\n",
       "      <td>unkn</td>\n",
       "    </tr>\n",
       "    <tr>\n",
       "      <th>401142</th>\n",
       "      <td>v2540</td>\n",
       "      <td>p4126</td>\n",
       "      <td>118</td>\n",
       "      <td>3355.0</td>\n",
       "      <td>unkn</td>\n",
       "    </tr>\n",
       "    <tr>\n",
       "      <th>401143</th>\n",
       "      <td>v5896</td>\n",
       "      <td>p4127</td>\n",
       "      <td>143</td>\n",
       "      <td>1835.0</td>\n",
       "      <td>unkn</td>\n",
       "    </tr>\n",
       "    <tr>\n",
       "      <th>401144</th>\n",
       "      <td>v1796</td>\n",
       "      <td>p4127</td>\n",
       "      <td>102</td>\n",
       "      <td>1445.0</td>\n",
       "      <td>unkn</td>\n",
       "    </tr>\n",
       "    <tr>\n",
       "      <th>401145</th>\n",
       "      <td>v2540</td>\n",
       "      <td>p4127</td>\n",
       "      <td>106</td>\n",
       "      <td>1275.0</td>\n",
       "      <td>unkn</td>\n",
       "    </tr>\n",
       "  </tbody>\n",
       "</table>\n",
       "<p>401146 rows × 5 columns</p>\n",
       "</div>"
      ],
      "text/plain": [
       "           ID   Prod  Quant      Val  Insp\n",
       "0          v1     p1    182   1665.0  unkn\n",
       "1          v2     p1   3072   8780.0  unkn\n",
       "2          v3     p1  20393  76990.0  unkn\n",
       "3          v4     p1    112   1100.0  unkn\n",
       "4          v3     p1   6164  20260.0  unkn\n",
       "...       ...    ...    ...      ...   ...\n",
       "401141  v5918  p4126    113   9330.0  unkn\n",
       "401142  v2540  p4126    118   3355.0  unkn\n",
       "401143  v5896  p4127    143   1835.0  unkn\n",
       "401144  v1796  p4127    102   1445.0  unkn\n",
       "401145  v2540  p4127    106   1275.0  unkn\n",
       "\n",
       "[401146 rows x 5 columns]"
      ]
     },
     "execution_count": 3,
     "metadata": {},
     "output_type": "execute_result"
    }
   ],
   "source": [
    "sales = robj['sales']\n",
    "sales"
   ]
  },
  {
   "cell_type": "code",
   "execution_count": 5,
   "metadata": {
    "ExecuteTime": {
     "end_time": "2021-10-29T15:11:36.182382Z",
     "start_time": "2021-10-29T15:11:36.127530Z"
    }
   },
   "outputs": [
    {
     "name": "stdout",
     "output_type": "stream",
     "text": [
      "Insp\n",
      "fraud      1270\n",
      "ok        14462\n",
      "unkn     385414\n",
      "dtype: int64\n"
     ]
    }
   ],
   "source": [
    "# 'Insp' class distribution\n",
    "print(sales.groupby('Insp').size())"
   ]
  },
  {
   "cell_type": "code",
   "execution_count": 30,
   "metadata": {
    "ExecuteTime": {
     "end_time": "2021-10-29T15:23:20.560065Z",
     "start_time": "2021-10-29T15:23:20.520172Z"
    }
   },
   "outputs": [
    {
     "data": {
      "text/plain": [
       "888"
      ]
     },
     "execution_count": 30,
     "metadata": {},
     "output_type": "execute_result"
    }
   ],
   "source": [
    "# checking for transactions that have both the value of Quant and Val missing\n",
    "(sales['Quant'].isnull() & sales['Val'].isnull()).sum()"
   ]
  },
  {
   "cell_type": "markdown",
   "metadata": {},
   "source": [
    "Removing all 888 cases may be problematic if this leads to removing most transactions of some product or salesperson."
   ]
  },
  {
   "cell_type": "markdown",
   "metadata": {},
   "source": [
    "..."
   ]
  },
  {
   "cell_type": "code",
   "execution_count": 38,
   "metadata": {
    "ExecuteTime": {
     "end_time": "2021-10-29T15:27:52.116593Z",
     "start_time": "2021-10-29T15:27:07.187724Z"
    }
   },
   "outputs": [],
   "source": [
    "# The option of removing all transactions with unknown values on both the quantity and the value is the best option.\n",
    "for i in range (1, len(sales)):\n",
    "    if (pd.isna(sales.Quant[i]) & pd.isna(sales.Val[i])):\n",
    "        sales.drop(labels=i, axis=0, inplace=True)       \n",
    "\n",
    "# Reseting indexes\n",
    "sales.reset_index(inplace = True, drop = True)"
   ]
  },
  {
   "cell_type": "markdown",
   "metadata": {
    "ExecuteTime": {
     "end_time": "2021-10-24T09:10:51.790286Z",
     "start_time": "2021-10-24T09:10:51.777276Z"
    }
   },
   "source": [
    "..."
   ]
  },
  {
   "cell_type": "code",
   "execution_count": 39,
   "metadata": {
    "ExecuteTime": {
     "end_time": "2021-10-29T15:28:15.198162Z",
     "start_time": "2021-10-29T15:27:52.771169Z"
    }
   },
   "outputs": [],
   "source": [
    "# Deleting the products that have all their transactions with unknown values of the quantity (p2442 and p2443).\n",
    "for i in range (0, len(sales)-1):\n",
    "    if (sales.Prod[i] == 'p2442'  or sales.Prod[i] =='p2443'):\n",
    "        sales.drop(labels=i, axis=0, inplace=True)\n",
    "    \n",
    "# Reseting indexes once again\n",
    "sales.reset_index(inplace = True, drop = True)"
   ]
  },
  {
   "cell_type": "code",
   "execution_count": 40,
   "metadata": {
    "ExecuteTime": {
     "end_time": "2021-10-29T15:30:14.758228Z",
     "start_time": "2021-10-29T15:29:13.855597Z"
    }
   },
   "outputs": [],
   "source": [
    "# Make a temp copy of the dataframe\n",
    "temp_df = sales.copy(deep=True)\n",
    "\n",
    "# We will skip the prices of transactions that were found to be frauds in the calculation of the typical price\n",
    "for i in range (0, len(temp_df)-1):\n",
    "    if (temp_df.Insp[i] == 'fraud'):\n",
    "        temp_df.drop(labels=i, axis=0, inplace=True)\n",
    "        \n",
    "#Reset indexes        \n",
    "temp_df.reset_index(inplace = True, drop = True)\n",
    "\n",
    "# Obtaining the typical unit price for each product\n",
    "temp_df[\"Uprice\"] = pd.to_numeric(temp_df[\"Val\"] / temp_df[\"Quant\"])"
   ]
  },
  {
   "cell_type": "code",
   "execution_count": 41,
   "metadata": {
    "ExecuteTime": {
     "end_time": "2021-10-29T15:30:15.381423Z",
     "start_time": "2021-10-29T15:30:15.261735Z"
    }
   },
   "outputs": [],
   "source": [
    "# Performing groupby on Product and find median of Uprice\n",
    "df_median = temp_df.groupby(['Prod'])['Uprice'].median().to_frame()\n",
    "df_median.columns = ['Median']\n",
    "# Saving index in another column\n",
    "df_median[\"Prod\"] = df_median.index\n",
    "# Reseting indexes\n",
    "df_median.reset_index(inplace = True, drop = True)\n",
    "# Merging sales and df_median\n",
    "frame = [sales, df_median]\n",
    "sales = sales.merge(df_median, on = 'Prod', how = 'inner')"
   ]
  },
  {
   "cell_type": "code",
   "execution_count": 42,
   "metadata": {
    "ExecuteTime": {
     "end_time": "2021-10-29T15:31:03.864511Z",
     "start_time": "2021-10-29T15:30:19.801311Z"
    }
   },
   "outputs": [
    {
     "name": "stderr",
     "output_type": "stream",
     "text": [
      "<ipython-input-42-34235cf1d088>:4: SettingWithCopyWarning: \n",
      "A value is trying to be set on a copy of a slice from a DataFrame\n",
      "\n",
      "See the caveats in the documentation: https://pandas.pydata.org/pandas-docs/stable/user_guide/indexing.html#returning-a-view-versus-a-copy\n",
      "  sales.Quant[i] = sales.Val[i] / sales.Median[i]\n",
      "<ipython-input-42-34235cf1d088>:6: SettingWithCopyWarning: \n",
      "A value is trying to be set on a copy of a slice from a DataFrame\n",
      "\n",
      "See the caveats in the documentation: https://pandas.pydata.org/pandas-docs/stable/user_guide/indexing.html#returning-a-view-versus-a-copy\n",
      "  sales.Val[i] = sales.Quant[i] * sales.Median[i]\n"
     ]
    }
   ],
   "source": [
    "# Having a typical unit price for each product, we can use it to calculate any of the two possibly missing values (Quant and Val).\n",
    "for i in range (0, len(sales)):\n",
    "    if (pd.isna(sales.Quant[i])):\n",
    "        sales.Quant[i] = sales.Val[i] / sales.Median[i]\n",
    "    if (pd.isna(sales.Val[i])):\n",
    "        sales.Val[i] = sales.Quant[i] * sales.Median[i]"
   ]
  },
  {
   "cell_type": "code",
   "execution_count": 43,
   "metadata": {
    "ExecuteTime": {
     "end_time": "2021-10-29T15:31:04.563294Z",
     "start_time": "2021-10-29T15:31:04.442571Z"
    }
   },
   "outputs": [],
   "source": [
    "# We can recalculate the Uprice column to fill in the previously unknown unit prices\n",
    "sales[\"Uprice\"] = pd.to_numeric(sales[\"Val\"] / sales[\"Quant\"])"
   ]
  },
  {
   "cell_type": "code",
   "execution_count": 37,
   "metadata": {
    "ExecuteTime": {
     "end_time": "2021-10-29T15:26:55.530533Z",
     "start_time": "2021-10-29T15:26:55.513579Z"
    }
   },
   "outputs": [],
   "source": [
    "sales = sales2.copy(deep=True)"
   ]
  },
  {
   "cell_type": "markdown",
   "metadata": {},
   "source": [
    "## Splitting dataset"
   ]
  },
  {
   "cell_type": "code",
   "execution_count": 14,
   "metadata": {
    "ExecuteTime": {
     "end_time": "2021-10-29T15:14:42.724416Z",
     "start_time": "2021-10-29T15:14:42.696979Z"
    },
    "scrolled": true
   },
   "outputs": [
    {
     "data": {
      "text/plain": [
       "unkn     384478\n",
       "ok        14458\n",
       "fraud      1268\n",
       "Name: Insp, dtype: int64"
      ]
     },
     "execution_count": 14,
     "metadata": {},
     "output_type": "execute_result"
    }
   ],
   "source": [
    "sales[\"Insp\"].value_counts()"
   ]
  },
  {
   "cell_type": "code",
   "execution_count": 15,
   "metadata": {
    "ExecuteTime": {
     "end_time": "2021-10-29T15:14:43.173548Z",
     "start_time": "2021-10-29T15:14:42.728406Z"
    }
   },
   "outputs": [],
   "source": [
    "label_encoder = LabelEncoder()\n",
    "sales[\"Insp\"]= label_encoder.fit_transform(sales[\"Insp\"])\n",
    "sales[\"ID\"]=label_encoder.fit_transform(sales[\"ID\"])\n",
    "sales[\"Prod\"]=label_encoder.fit_transform(sales[\"Prod\"])"
   ]
  },
  {
   "cell_type": "code",
   "execution_count": 16,
   "metadata": {
    "ExecuteTime": {
     "end_time": "2021-10-29T15:14:43.205441Z",
     "start_time": "2021-10-29T15:14:43.176521Z"
    }
   },
   "outputs": [
    {
     "data": {
      "text/plain": [
       "2    384478\n",
       "1     14458\n",
       "0      1268\n",
       "Name: Insp, dtype: int64"
      ]
     },
     "execution_count": 16,
     "metadata": {},
     "output_type": "execute_result"
    }
   ],
   "source": [
    "sales[\"Insp\"].value_counts()"
   ]
  },
  {
   "cell_type": "code",
   "execution_count": 17,
   "metadata": {
    "ExecuteTime": {
     "end_time": "2021-10-29T15:14:43.421372Z",
     "start_time": "2021-10-29T15:14:43.208434Z"
    }
   },
   "outputs": [],
   "source": [
    "data=sales.drop(sales[sales.Insp==2].index)#drop unknown\n",
    "X=data[[\"ID\",\"Prod\",\"Uprice\"]]\n",
    "y=data[\"Insp\"]"
   ]
  },
  {
   "cell_type": "code",
   "execution_count": 18,
   "metadata": {
    "ExecuteTime": {
     "end_time": "2021-10-29T15:14:43.452291Z",
     "start_time": "2021-10-29T15:14:43.423368Z"
    }
   },
   "outputs": [],
   "source": [
    "X_train, X_test, y_train, y_test = train_test_split( X, y, test_size=0.3, random_state=1)"
   ]
  },
  {
   "cell_type": "code",
   "execution_count": 19,
   "metadata": {
    "ExecuteTime": {
     "end_time": "2021-10-29T15:14:43.467251Z",
     "start_time": "2021-10-29T15:14:43.454284Z"
    }
   },
   "outputs": [
    {
     "data": {
      "text/plain": [
       "1    14458\n",
       "0     1268\n",
       "Name: Insp, dtype: int64"
      ]
     },
     "execution_count": 19,
     "metadata": {},
     "output_type": "execute_result"
    }
   ],
   "source": [
    "data[\"Insp\"].value_counts()"
   ]
  },
  {
   "cell_type": "markdown",
   "metadata": {},
   "source": [
    "# Building models"
   ]
  },
  {
   "cell_type": "markdown",
   "metadata": {},
   "source": [
    "## Unsupervised learning"
   ]
  },
  {
   "cell_type": "markdown",
   "metadata": {},
   "source": [
    "### Box Plot Rule"
   ]
  },
  {
   "cell_type": "code",
   "execution_count": 44,
   "metadata": {
    "ExecuteTime": {
     "end_time": "2021-10-29T15:31:09.980456Z",
     "start_time": "2021-10-29T15:31:09.889699Z"
    }
   },
   "outputs": [
    {
     "data": {
      "text/html": [
       "<div>\n",
       "<style scoped>\n",
       "    .dataframe tbody tr th:only-of-type {\n",
       "        vertical-align: middle;\n",
       "    }\n",
       "\n",
       "    .dataframe tbody tr th {\n",
       "        vertical-align: top;\n",
       "    }\n",
       "\n",
       "    .dataframe thead th {\n",
       "        text-align: right;\n",
       "    }\n",
       "</style>\n",
       "<table border=\"1\" class=\"dataframe\">\n",
       "  <thead>\n",
       "    <tr style=\"text-align: right;\">\n",
       "      <th></th>\n",
       "      <th>ID</th>\n",
       "      <th>Prod</th>\n",
       "      <th>Quant</th>\n",
       "      <th>Val</th>\n",
       "      <th>Insp</th>\n",
       "      <th>Median</th>\n",
       "      <th>Uprice</th>\n",
       "    </tr>\n",
       "  </thead>\n",
       "  <tbody>\n",
       "    <tr>\n",
       "      <th>0</th>\n",
       "      <td>v1</td>\n",
       "      <td>p1</td>\n",
       "      <td>182</td>\n",
       "      <td>1665.0</td>\n",
       "      <td>unkn</td>\n",
       "      <td>11.428571</td>\n",
       "      <td>9.148352</td>\n",
       "    </tr>\n",
       "    <tr>\n",
       "      <th>1</th>\n",
       "      <td>v2</td>\n",
       "      <td>p1</td>\n",
       "      <td>3072</td>\n",
       "      <td>8780.0</td>\n",
       "      <td>unkn</td>\n",
       "      <td>11.428571</td>\n",
       "      <td>2.858073</td>\n",
       "    </tr>\n",
       "    <tr>\n",
       "      <th>2</th>\n",
       "      <td>v3</td>\n",
       "      <td>p1</td>\n",
       "      <td>20393</td>\n",
       "      <td>76990.0</td>\n",
       "      <td>unkn</td>\n",
       "      <td>11.428571</td>\n",
       "      <td>3.775315</td>\n",
       "    </tr>\n",
       "    <tr>\n",
       "      <th>3</th>\n",
       "      <td>v4</td>\n",
       "      <td>p1</td>\n",
       "      <td>112</td>\n",
       "      <td>1100.0</td>\n",
       "      <td>unkn</td>\n",
       "      <td>11.428571</td>\n",
       "      <td>9.821429</td>\n",
       "    </tr>\n",
       "    <tr>\n",
       "      <th>4</th>\n",
       "      <td>v3</td>\n",
       "      <td>p1</td>\n",
       "      <td>6164</td>\n",
       "      <td>20260.0</td>\n",
       "      <td>unkn</td>\n",
       "      <td>11.428571</td>\n",
       "      <td>3.286827</td>\n",
       "    </tr>\n",
       "    <tr>\n",
       "      <th>...</th>\n",
       "      <td>...</td>\n",
       "      <td>...</td>\n",
       "      <td>...</td>\n",
       "      <td>...</td>\n",
       "      <td>...</td>\n",
       "      <td>...</td>\n",
       "      <td>...</td>\n",
       "    </tr>\n",
       "    <tr>\n",
       "      <th>400199</th>\n",
       "      <td>v1779</td>\n",
       "      <td>p4548</td>\n",
       "      <td>127</td>\n",
       "      <td>1965.0</td>\n",
       "      <td>unkn</td>\n",
       "      <td>8.796992</td>\n",
       "      <td>15.472441</td>\n",
       "    </tr>\n",
       "    <tr>\n",
       "      <th>400200</th>\n",
       "      <td>v5721</td>\n",
       "      <td>p4548</td>\n",
       "      <td>133</td>\n",
       "      <td>1170.0</td>\n",
       "      <td>unkn</td>\n",
       "      <td>8.796992</td>\n",
       "      <td>8.796992</td>\n",
       "    </tr>\n",
       "    <tr>\n",
       "      <th>400201</th>\n",
       "      <td>v5721</td>\n",
       "      <td>p4548</td>\n",
       "      <td>125</td>\n",
       "      <td>1115.0</td>\n",
       "      <td>unkn</td>\n",
       "      <td>8.796992</td>\n",
       "      <td>8.920000</td>\n",
       "    </tr>\n",
       "    <tr>\n",
       "      <th>400202</th>\n",
       "      <td>v1779</td>\n",
       "      <td>p4548</td>\n",
       "      <td>111</td>\n",
       "      <td>1105.0</td>\n",
       "      <td>unkn</td>\n",
       "      <td>8.796992</td>\n",
       "      <td>9.954955</td>\n",
       "    </tr>\n",
       "    <tr>\n",
       "      <th>400203</th>\n",
       "      <td>v1779</td>\n",
       "      <td>p4548</td>\n",
       "      <td>243</td>\n",
       "      <td>2450.0</td>\n",
       "      <td>unkn</td>\n",
       "      <td>8.796992</td>\n",
       "      <td>10.082305</td>\n",
       "    </tr>\n",
       "  </tbody>\n",
       "</table>\n",
       "<p>400204 rows × 7 columns</p>\n",
       "</div>"
      ],
      "text/plain": [
       "           ID   Prod  Quant      Val  Insp     Median     Uprice\n",
       "0          v1     p1    182   1665.0  unkn  11.428571   9.148352\n",
       "1          v2     p1   3072   8780.0  unkn  11.428571   2.858073\n",
       "2          v3     p1  20393  76990.0  unkn  11.428571   3.775315\n",
       "3          v4     p1    112   1100.0  unkn  11.428571   9.821429\n",
       "4          v3     p1   6164  20260.0  unkn  11.428571   3.286827\n",
       "...       ...    ...    ...      ...   ...        ...        ...\n",
       "400199  v1779  p4548    127   1965.0  unkn   8.796992  15.472441\n",
       "400200  v5721  p4548    133   1170.0  unkn   8.796992   8.796992\n",
       "400201  v5721  p4548    125   1115.0  unkn   8.796992   8.920000\n",
       "400202  v1779  p4548    111   1105.0  unkn   8.796992   9.954955\n",
       "400203  v1779  p4548    243   2450.0  unkn   8.796992  10.082305\n",
       "\n",
       "[400204 rows x 7 columns]"
      ]
     },
     "execution_count": 44,
     "metadata": {},
     "output_type": "execute_result"
    }
   ],
   "source": [
    "sales"
   ]
  },
  {
   "cell_type": "code",
   "execution_count": 45,
   "metadata": {
    "ExecuteTime": {
     "end_time": "2021-10-29T15:31:14.504982Z",
     "start_time": "2021-10-29T15:31:14.336438Z"
    }
   },
   "outputs": [
    {
     "data": {
      "text/html": [
       "<div>\n",
       "<style scoped>\n",
       "    .dataframe tbody tr th:only-of-type {\n",
       "        vertical-align: middle;\n",
       "    }\n",
       "\n",
       "    .dataframe tbody tr th {\n",
       "        vertical-align: top;\n",
       "    }\n",
       "\n",
       "    .dataframe thead th {\n",
       "        text-align: right;\n",
       "    }\n",
       "</style>\n",
       "<table border=\"1\" class=\"dataframe\">\n",
       "  <thead>\n",
       "    <tr style=\"text-align: right;\">\n",
       "      <th></th>\n",
       "      <th>ID</th>\n",
       "      <th>Prod</th>\n",
       "      <th>Quant</th>\n",
       "      <th>Val</th>\n",
       "      <th>Insp</th>\n",
       "      <th>Median</th>\n",
       "      <th>Uprice</th>\n",
       "      <th>Diff</th>\n",
       "    </tr>\n",
       "  </thead>\n",
       "  <tbody>\n",
       "    <tr>\n",
       "      <th>307968</th>\n",
       "      <td>v1239</td>\n",
       "      <td>p3199</td>\n",
       "      <td>100</td>\n",
       "      <td>2646070.0</td>\n",
       "      <td>fraud</td>\n",
       "      <td>24.664880</td>\n",
       "      <td>26460.700000</td>\n",
       "      <td>26436.035120</td>\n",
       "    </tr>\n",
       "    <tr>\n",
       "      <th>332572</th>\n",
       "      <td>v3599</td>\n",
       "      <td>p3436</td>\n",
       "      <td>244</td>\n",
       "      <td>3941290.0</td>\n",
       "      <td>fraud</td>\n",
       "      <td>14.135286</td>\n",
       "      <td>16152.827869</td>\n",
       "      <td>16138.692583</td>\n",
       "    </tr>\n",
       "    <tr>\n",
       "      <th>223857</th>\n",
       "      <td>v4577</td>\n",
       "      <td>p2203</td>\n",
       "      <td>153</td>\n",
       "      <td>2041000.0</td>\n",
       "      <td>fraud</td>\n",
       "      <td>10.450000</td>\n",
       "      <td>13339.869281</td>\n",
       "      <td>13329.419281</td>\n",
       "    </tr>\n",
       "    <tr>\n",
       "      <th>351075</th>\n",
       "      <td>v515</td>\n",
       "      <td>p3689</td>\n",
       "      <td>143</td>\n",
       "      <td>3027010.0</td>\n",
       "      <td>unkn</td>\n",
       "      <td>9204.195372</td>\n",
       "      <td>21167.902098</td>\n",
       "      <td>11963.706726</td>\n",
       "    </tr>\n",
       "    <tr>\n",
       "      <th>84347</th>\n",
       "      <td>v884</td>\n",
       "      <td>p1159</td>\n",
       "      <td>350</td>\n",
       "      <td>3953985.0</td>\n",
       "      <td>fraud</td>\n",
       "      <td>13.981187</td>\n",
       "      <td>11297.100000</td>\n",
       "      <td>11283.118813</td>\n",
       "    </tr>\n",
       "    <tr>\n",
       "      <th>351086</th>\n",
       "      <td>v3669</td>\n",
       "      <td>p3689</td>\n",
       "      <td>120</td>\n",
       "      <td>1935.0</td>\n",
       "      <td>unkn</td>\n",
       "      <td>9204.195372</td>\n",
       "      <td>16.125000</td>\n",
       "      <td>9188.070372</td>\n",
       "    </tr>\n",
       "    <tr>\n",
       "      <th>351074</th>\n",
       "      <td>v515</td>\n",
       "      <td>p3689</td>\n",
       "      <td>101</td>\n",
       "      <td>2090.0</td>\n",
       "      <td>unkn</td>\n",
       "      <td>9204.195372</td>\n",
       "      <td>20.693069</td>\n",
       "      <td>9183.502303</td>\n",
       "    </tr>\n",
       "    <tr>\n",
       "      <th>351079</th>\n",
       "      <td>v1977</td>\n",
       "      <td>p3689</td>\n",
       "      <td>101</td>\n",
       "      <td>2985.0</td>\n",
       "      <td>unkn</td>\n",
       "      <td>9204.195372</td>\n",
       "      <td>29.554455</td>\n",
       "      <td>9174.640916</td>\n",
       "    </tr>\n",
       "    <tr>\n",
       "      <th>351076</th>\n",
       "      <td>v515</td>\n",
       "      <td>p3689</td>\n",
       "      <td>103</td>\n",
       "      <td>23360.0</td>\n",
       "      <td>unkn</td>\n",
       "      <td>9204.195372</td>\n",
       "      <td>226.796117</td>\n",
       "      <td>8977.399255</td>\n",
       "    </tr>\n",
       "    <tr>\n",
       "      <th>89588</th>\n",
       "      <td>v596</td>\n",
       "      <td>p1213</td>\n",
       "      <td>111</td>\n",
       "      <td>971905.0</td>\n",
       "      <td>fraud</td>\n",
       "      <td>19.492386</td>\n",
       "      <td>8755.900901</td>\n",
       "      <td>8736.408515</td>\n",
       "    </tr>\n",
       "  </tbody>\n",
       "</table>\n",
       "</div>"
      ],
      "text/plain": [
       "           ID   Prod Quant        Val   Insp       Median        Uprice  \\\n",
       "307968  v1239  p3199   100  2646070.0  fraud    24.664880  26460.700000   \n",
       "332572  v3599  p3436   244  3941290.0  fraud    14.135286  16152.827869   \n",
       "223857  v4577  p2203   153  2041000.0  fraud    10.450000  13339.869281   \n",
       "351075   v515  p3689   143  3027010.0   unkn  9204.195372  21167.902098   \n",
       "84347    v884  p1159   350  3953985.0  fraud    13.981187  11297.100000   \n",
       "351086  v3669  p3689   120     1935.0   unkn  9204.195372     16.125000   \n",
       "351074   v515  p3689   101     2090.0   unkn  9204.195372     20.693069   \n",
       "351079  v1977  p3689   101     2985.0   unkn  9204.195372     29.554455   \n",
       "351076   v515  p3689   103    23360.0   unkn  9204.195372    226.796117   \n",
       "89588    v596  p1213   111   971905.0  fraud    19.492386   8755.900901   \n",
       "\n",
       "                Diff  \n",
       "307968  26436.035120  \n",
       "332572  16138.692583  \n",
       "223857  13329.419281  \n",
       "351075  11963.706726  \n",
       "84347   11283.118813  \n",
       "351086   9188.070372  \n",
       "351074   9183.502303  \n",
       "351079   9174.640916  \n",
       "351076   8977.399255  \n",
       "89588    8736.408515  "
      ]
     },
     "execution_count": 45,
     "metadata": {},
     "output_type": "execute_result"
    }
   ],
   "source": [
    "#calculate outliers\n",
    "sales['Diff'] = abs(sales[\"Uprice\"] - sales[\"Median\"])\n",
    "\n",
    "sales.sort_values(by='Diff', ascending = False).head(10)"
   ]
  },
  {
   "cell_type": "markdown",
   "metadata": {},
   "source": [
    "Observing outlier detection results, product p3689 appears 5 times among the top 10 transactions with the greatest differences. The corresponding salesmen for this transactions are v3599, vv515, v3669, v1977. While salesman with ID v1239 sales product p3199 with more than 26400 value units compared with the average value for this specific product."
   ]
  },
  {
   "cell_type": "markdown",
   "metadata": {},
   "source": [
    "### Local Outlier Factor"
   ]
  },
  {
   "cell_type": "markdown",
   "metadata": {},
   "source": [
    "The Local Outlier Factor (LOF) algorithm is an unsupervised anomaly detection method which computes the local density deviation of a given data point with respect to its neighbors. It considers as outliers the samples that have a substantially lower density than their neighbors. "
   ]
  },
  {
   "cell_type": "code",
   "execution_count": 51,
   "metadata": {
    "ExecuteTime": {
     "end_time": "2021-10-29T15:38:01.743943Z",
     "start_time": "2021-10-29T15:38:01.718012Z"
    }
   },
   "outputs": [],
   "source": [
    "##create new dataset\n",
    "new_df = sales.copy(deep=True)"
   ]
  },
  {
   "cell_type": "markdown",
   "metadata": {},
   "source": [
    "In this context we are treating the products separately and then we will apply the LOF algorithm to a\n",
    "dataset of reports described only by the unit price."
   ]
  },
  {
   "cell_type": "code",
   "execution_count": 47,
   "metadata": {
    "ExecuteTime": {
     "end_time": "2021-10-29T15:31:36.235838Z",
     "start_time": "2021-10-29T15:31:36.002986Z"
    }
   },
   "outputs": [],
   "source": [
    "n = new_df.groupby('Prod')['Uprice'].apply(list)"
   ]
  },
  {
   "cell_type": "code",
   "execution_count": 48,
   "metadata": {
    "ExecuteTime": {
     "end_time": "2021-10-29T15:31:57.333935Z",
     "start_time": "2021-10-29T15:31:38.069769Z"
    }
   },
   "outputs": [
    {
     "name": "stdout",
     "output_type": "stream",
     "text": [
      "400204\n"
     ]
    }
   ],
   "source": [
    "## calculate local outlier factors\n",
    "outFactor = []\n",
    "for i in range (0,n.shape[0]):\n",
    "    clf = LocalOutlierFactor(n_neighbors=2)\n",
    "    p = pd.DataFrame(list(zip(n[i])),columns=['Single Prod Uprices'])\n",
    "    p['Single Prod Uprices'].values\n",
    "    if(p.shape[0] > 3):\n",
    "        ypred = clf.fit_predict(p)\n",
    "    else:\n",
    "        ypred = [1] * p.shape[0] ##normal  \n",
    "    \n",
    "    outFactor = np.concatenate((outFactor,ypred))\n",
    "\n",
    "print(outFactor.shape[0])"
   ]
  },
  {
   "cell_type": "markdown",
   "metadata": {},
   "source": [
    "Note: The for loop goes over each of these sets of prices and applies the LOF method to obtain an outlier factor for each of the prices.We only used the LOF method if there were at least three reports(because kneighbours = 2); otherwise all values were tagged as normal."
   ]
  },
  {
   "cell_type": "markdown",
   "metadata": {},
   "source": [
    "Outlier factors equal to -1 indicate that this observation deviates in a great deegre from the normal one, so this transaction is classified as fraud."
   ]
  },
  {
   "cell_type": "code",
   "execution_count": 53,
   "metadata": {
    "ExecuteTime": {
     "end_time": "2021-10-29T15:38:28.652651Z",
     "start_time": "2021-10-29T15:38:28.578849Z"
    }
   },
   "outputs": [
    {
     "data": {
      "text/html": [
       "<div>\n",
       "<style scoped>\n",
       "    .dataframe tbody tr th:only-of-type {\n",
       "        vertical-align: middle;\n",
       "    }\n",
       "\n",
       "    .dataframe tbody tr th {\n",
       "        vertical-align: top;\n",
       "    }\n",
       "\n",
       "    .dataframe thead th {\n",
       "        text-align: right;\n",
       "    }\n",
       "</style>\n",
       "<table border=\"1\" class=\"dataframe\">\n",
       "  <thead>\n",
       "    <tr style=\"text-align: right;\">\n",
       "      <th></th>\n",
       "      <th>ID</th>\n",
       "      <th>Prod</th>\n",
       "      <th>Quant</th>\n",
       "      <th>Val</th>\n",
       "      <th>Insp</th>\n",
       "      <th>Median</th>\n",
       "      <th>Uprice</th>\n",
       "      <th>Diff</th>\n",
       "      <th>Outlier Factor</th>\n",
       "    </tr>\n",
       "  </thead>\n",
       "  <tbody>\n",
       "    <tr>\n",
       "      <th>0</th>\n",
       "      <td>v1</td>\n",
       "      <td>p1</td>\n",
       "      <td>182</td>\n",
       "      <td>1665.0</td>\n",
       "      <td>unkn</td>\n",
       "      <td>11.428571</td>\n",
       "      <td>9.148352</td>\n",
       "      <td>2.280220</td>\n",
       "      <td>1.0</td>\n",
       "    </tr>\n",
       "    <tr>\n",
       "      <th>1</th>\n",
       "      <td>v2</td>\n",
       "      <td>p1</td>\n",
       "      <td>3072</td>\n",
       "      <td>8780.0</td>\n",
       "      <td>unkn</td>\n",
       "      <td>11.428571</td>\n",
       "      <td>2.858073</td>\n",
       "      <td>8.570499</td>\n",
       "      <td>1.0</td>\n",
       "    </tr>\n",
       "    <tr>\n",
       "      <th>2</th>\n",
       "      <td>v3</td>\n",
       "      <td>p1</td>\n",
       "      <td>20393</td>\n",
       "      <td>76990.0</td>\n",
       "      <td>unkn</td>\n",
       "      <td>11.428571</td>\n",
       "      <td>3.775315</td>\n",
       "      <td>7.653256</td>\n",
       "      <td>1.0</td>\n",
       "    </tr>\n",
       "    <tr>\n",
       "      <th>3</th>\n",
       "      <td>v4</td>\n",
       "      <td>p1</td>\n",
       "      <td>112</td>\n",
       "      <td>1100.0</td>\n",
       "      <td>unkn</td>\n",
       "      <td>11.428571</td>\n",
       "      <td>9.821429</td>\n",
       "      <td>1.607143</td>\n",
       "      <td>-1.0</td>\n",
       "    </tr>\n",
       "    <tr>\n",
       "      <th>4</th>\n",
       "      <td>v3</td>\n",
       "      <td>p1</td>\n",
       "      <td>6164</td>\n",
       "      <td>20260.0</td>\n",
       "      <td>unkn</td>\n",
       "      <td>11.428571</td>\n",
       "      <td>3.286827</td>\n",
       "      <td>8.141745</td>\n",
       "      <td>-1.0</td>\n",
       "    </tr>\n",
       "    <tr>\n",
       "      <th>...</th>\n",
       "      <td>...</td>\n",
       "      <td>...</td>\n",
       "      <td>...</td>\n",
       "      <td>...</td>\n",
       "      <td>...</td>\n",
       "      <td>...</td>\n",
       "      <td>...</td>\n",
       "      <td>...</td>\n",
       "      <td>...</td>\n",
       "    </tr>\n",
       "    <tr>\n",
       "      <th>400199</th>\n",
       "      <td>v1779</td>\n",
       "      <td>p4548</td>\n",
       "      <td>127</td>\n",
       "      <td>1965.0</td>\n",
       "      <td>unkn</td>\n",
       "      <td>8.796992</td>\n",
       "      <td>15.472441</td>\n",
       "      <td>6.675448</td>\n",
       "      <td>-1.0</td>\n",
       "    </tr>\n",
       "    <tr>\n",
       "      <th>400200</th>\n",
       "      <td>v5721</td>\n",
       "      <td>p4548</td>\n",
       "      <td>133</td>\n",
       "      <td>1170.0</td>\n",
       "      <td>unkn</td>\n",
       "      <td>8.796992</td>\n",
       "      <td>8.796992</td>\n",
       "      <td>0.000000</td>\n",
       "      <td>1.0</td>\n",
       "    </tr>\n",
       "    <tr>\n",
       "      <th>400201</th>\n",
       "      <td>v5721</td>\n",
       "      <td>p4548</td>\n",
       "      <td>125</td>\n",
       "      <td>1115.0</td>\n",
       "      <td>unkn</td>\n",
       "      <td>8.796992</td>\n",
       "      <td>8.920000</td>\n",
       "      <td>0.123008</td>\n",
       "      <td>-1.0</td>\n",
       "    </tr>\n",
       "    <tr>\n",
       "      <th>400202</th>\n",
       "      <td>v1779</td>\n",
       "      <td>p4548</td>\n",
       "      <td>111</td>\n",
       "      <td>1105.0</td>\n",
       "      <td>unkn</td>\n",
       "      <td>8.796992</td>\n",
       "      <td>9.954955</td>\n",
       "      <td>1.157962</td>\n",
       "      <td>1.0</td>\n",
       "    </tr>\n",
       "    <tr>\n",
       "      <th>400203</th>\n",
       "      <td>v1779</td>\n",
       "      <td>p4548</td>\n",
       "      <td>243</td>\n",
       "      <td>2450.0</td>\n",
       "      <td>unkn</td>\n",
       "      <td>8.796992</td>\n",
       "      <td>10.082305</td>\n",
       "      <td>1.285312</td>\n",
       "      <td>-1.0</td>\n",
       "    </tr>\n",
       "  </tbody>\n",
       "</table>\n",
       "<p>400204 rows × 9 columns</p>\n",
       "</div>"
      ],
      "text/plain": [
       "           ID   Prod  Quant      Val  Insp     Median     Uprice      Diff  \\\n",
       "0          v1     p1    182   1665.0  unkn  11.428571   9.148352  2.280220   \n",
       "1          v2     p1   3072   8780.0  unkn  11.428571   2.858073  8.570499   \n",
       "2          v3     p1  20393  76990.0  unkn  11.428571   3.775315  7.653256   \n",
       "3          v4     p1    112   1100.0  unkn  11.428571   9.821429  1.607143   \n",
       "4          v3     p1   6164  20260.0  unkn  11.428571   3.286827  8.141745   \n",
       "...       ...    ...    ...      ...   ...        ...        ...       ...   \n",
       "400199  v1779  p4548    127   1965.0  unkn   8.796992  15.472441  6.675448   \n",
       "400200  v5721  p4548    133   1170.0  unkn   8.796992   8.796992  0.000000   \n",
       "400201  v5721  p4548    125   1115.0  unkn   8.796992   8.920000  0.123008   \n",
       "400202  v1779  p4548    111   1105.0  unkn   8.796992   9.954955  1.157962   \n",
       "400203  v1779  p4548    243   2450.0  unkn   8.796992  10.082305  1.285312   \n",
       "\n",
       "        Outlier Factor  \n",
       "0                  1.0  \n",
       "1                  1.0  \n",
       "2                  1.0  \n",
       "3                 -1.0  \n",
       "4                 -1.0  \n",
       "...                ...  \n",
       "400199            -1.0  \n",
       "400200             1.0  \n",
       "400201            -1.0  \n",
       "400202             1.0  \n",
       "400203            -1.0  \n",
       "\n",
       "[400204 rows x 9 columns]"
      ]
     },
     "execution_count": 53,
     "metadata": {},
     "output_type": "execute_result"
    }
   ],
   "source": [
    "new_df['Outlier Factor'] = outFactor\n",
    "new_df"
   ]
  },
  {
   "cell_type": "code",
   "execution_count": 54,
   "metadata": {
    "ExecuteTime": {
     "end_time": "2021-10-29T15:38:31.742392Z",
     "start_time": "2021-10-29T15:38:31.676567Z"
    }
   },
   "outputs": [
    {
     "name": "stdout",
     "output_type": "stream",
     "text": [
      "(384478, 9)\n"
     ]
    },
    {
     "data": {
      "text/plain": [
       " 1.0    287030\n",
       "-1.0     97448\n",
       "Name: Outlier Factor, dtype: int64"
      ]
     },
     "execution_count": 54,
     "metadata": {},
     "output_type": "execute_result"
    }
   ],
   "source": [
    "#keep only unkn inspections\n",
    "uInsp_df = new_df.loc[new_df['Insp'] == \"unkn\"]\n",
    "uInsp_df.reset_index(drop=True, inplace=True)\n",
    "print(uInsp_df.shape)\n",
    "\n",
    "uInsp_df['Outlier Factor'].value_counts()"
   ]
  },
  {
   "cell_type": "markdown",
   "metadata": {},
   "source": [
    "By applying local outlier factor 97448 transactions have been detected as anomalies (frauds). The score for fraud transactions is close to 25% while valid transanctios are approximate 75% of the dataset."
   ]
  },
  {
   "cell_type": "markdown",
   "metadata": {},
   "source": [
    "   #### precision and recall"
   ]
  },
  {
   "cell_type": "code",
   "execution_count": 56,
   "metadata": {
    "ExecuteTime": {
     "end_time": "2021-10-29T15:39:34.574494Z",
     "start_time": "2021-10-29T15:39:34.558537Z"
    }
   },
   "outputs": [],
   "source": [
    "#keep only unkn inspections\n",
    "nuInsp_df = new_df.loc[new_df['Insp'] != \"unkn\"]\n",
    "nuInsp_df.reset_index(drop=True, inplace=True)\n"
   ]
  },
  {
   "cell_type": "code",
   "execution_count": 57,
   "metadata": {
    "ExecuteTime": {
     "end_time": "2021-10-29T15:40:02.770571Z",
     "start_time": "2021-10-29T15:40:02.750627Z"
    }
   },
   "outputs": [
    {
     "name": "stderr",
     "output_type": "stream",
     "text": [
      "<ipython-input-57-e35da70730ee>:4: SettingWithCopyWarning: \n",
      "A value is trying to be set on a copy of a slice from a DataFrame.\n",
      "Try using .loc[row_indexer,col_indexer] = value instead\n",
      "\n",
      "See the caveats in the documentation: https://pandas.pydata.org/pandas-docs/stable/user_guide/indexing.html#returning-a-view-versus-a-copy\n",
      "  nuInsp_df['insp'] = nuInsp_df.Insp.map(iDict)\n"
     ]
    }
   ],
   "source": [
    "# 1. \n",
    "iDict =   {'ok':1.0, 'fraud':-1.0}\n",
    "# 2. \n",
    "nuInsp_df['insp'] = nuInsp_df.Insp.map(iDict)\n",
    "nuInsp_df = nuInsp_df.drop('Insp', axis = 1)\n",
    "\n",
    "# Use the .rename() method to rename count to total\n",
    "nuInsp_df.rename(columns={'insp':'Insp'}, inplace=True)"
   ]
  },
  {
   "cell_type": "code",
   "execution_count": 64,
   "metadata": {
    "ExecuteTime": {
     "end_time": "2021-10-29T15:51:29.926087Z",
     "start_time": "2021-10-29T15:51:29.893179Z"
    }
   },
   "outputs": [
    {
     "data": {
      "text/plain": [
       "0.7502420805090607"
      ]
     },
     "execution_count": 64,
     "metadata": {},
     "output_type": "execute_result"
    }
   ],
   "source": [
    "recall_score(nuInsp_df['Insp'],nuInsp_df['Outlier Factor'] , average='binary')"
   ]
  },
  {
   "cell_type": "code",
   "execution_count": 65,
   "metadata": {
    "ExecuteTime": {
     "end_time": "2021-10-29T15:51:38.363192Z",
     "start_time": "2021-10-29T15:51:38.333272Z"
    }
   },
   "outputs": [
    {
     "data": {
      "text/plain": [
       "0.9191593932717567"
      ]
     },
     "execution_count": 65,
     "metadata": {},
     "output_type": "execute_result"
    }
   ],
   "source": [
    "precision_score(nuInsp_df['Insp'], nuInsp_df['Outlier Factor'], average='binary')"
   ]
  },
  {
   "cell_type": "markdown",
   "metadata": {},
   "source": [
    "## Supervised learning"
   ]
  },
  {
   "cell_type": "markdown",
   "metadata": {},
   "source": [
    "### The Class Imbalance Problem"
   ]
  },
  {
   "cell_type": "markdown",
   "metadata": {},
   "source": [
    "#### SMOTE"
   ]
  },
  {
   "cell_type": "code",
   "execution_count": 20,
   "metadata": {
    "ExecuteTime": {
     "end_time": "2021-10-28T15:21:31.374942Z",
     "start_time": "2021-10-28T15:21:31.330946Z"
    }
   },
   "outputs": [],
   "source": [
    "oversample = SMOTE()\n",
    "Xbalanced, ybalanced = oversample.fit_resample(X, y)\n",
    "X_trainb, X_testb, y_trainb, y_testb = train_test_split( Xbalanced, ybalanced, test_size=0.3, random_state=1)"
   ]
  },
  {
   "cell_type": "markdown",
   "metadata": {},
   "source": [
    "### Naive-Bayes"
   ]
  },
  {
   "cell_type": "markdown",
   "metadata": {
    "ExecuteTime": {
     "end_time": "2021-10-26T16:13:22.833985Z",
     "start_time": "2021-10-26T16:13:22.827981Z"
    }
   },
   "source": [
    "#### Naive-Bayes without SMOTE"
   ]
  },
  {
   "cell_type": "code",
   "execution_count": 21,
   "metadata": {
    "ExecuteTime": {
     "end_time": "2021-10-28T15:21:31.818694Z",
     "start_time": "2021-10-28T15:21:31.376943Z"
    }
   },
   "outputs": [
    {
     "name": "stdout",
     "output_type": "stream",
     "text": [
      "              precision    recall  f1-score   support\n",
      "\n",
      "           0       0.48      0.06      0.11       382\n",
      "           1       0.92      0.99      0.96      4336\n",
      "\n",
      "    accuracy                           0.92      4718\n",
      "   macro avg       0.70      0.53      0.53      4718\n",
      "weighted avg       0.89      0.92      0.89      4718\n",
      "\n"
     ]
    },
    {
     "data": {
      "image/png": "[encoded data removed]",
      "text/plain": [
       "<Figure size 432x288 with 2 Axes>"
      ]
     },
     "metadata": {
      "needs_background": "light"
     },
     "output_type": "display_data"
    }
   ],
   "source": [
    "gnb = GaussianNB()\n",
    "gnb.fit(X_train, y_train)\n",
    "y_pred = gnb.predict(X_test)\n",
    "\n",
    "print(classification_report(y_test,y_pred))\n",
    "confusion=confusion_matrix(y_test, y_pred)\n",
    "sns.heatmap(confusion, annot=True)\n",
    "# Plot non-normalized confusion matrix \n",
    "ax= plt.subplot()\n",
    "sns.heatmap(confusion, annot=True, fmt='g', ax=ax);  #annot=True to annotate cells, ftm='g' to disable scientific notation\n",
    "# labels, title and ticks\n",
    "ax.set_xlabel('Predicted labels');ax.set_ylabel('True labels'); \n",
    "ax.set_title('Confusion Matrix'); "
   ]
  },
  {
   "cell_type": "markdown",
   "metadata": {},
   "source": [
    "#### Naive-Bayes with SMOTE"
   ]
  },
  {
   "cell_type": "code",
   "execution_count": 22,
   "metadata": {
    "ExecuteTime": {
     "end_time": "2021-10-28T15:21:32.184283Z",
     "start_time": "2021-10-28T15:21:31.821699Z"
    }
   },
   "outputs": [
    {
     "name": "stdout",
     "output_type": "stream",
     "text": [
      "              precision    recall  f1-score   support\n",
      "\n",
      "           0       0.90      0.10      0.18      4255\n",
      "           1       0.53      0.99      0.69      4420\n",
      "\n",
      "    accuracy                           0.55      8675\n",
      "   macro avg       0.71      0.54      0.43      8675\n",
      "weighted avg       0.71      0.55      0.44      8675\n",
      "\n"
     ]
    },
    {
     "data": {
      "image/png": "[encoded data removed]",
      "text/plain": [
       "<Figure size 432x288 with 2 Axes>"
      ]
     },
     "metadata": {
      "needs_background": "light"
     },
     "output_type": "display_data"
    }
   ],
   "source": [
    "gnb = GaussianNB()\n",
    "gnb.fit(X_trainb, y_trainb)\n",
    "y_pred = gnb.predict(X_testb)\n",
    "\n",
    "print(classification_report(y_testb,y_pred))\n",
    "confusion=confusion_matrix(y_testb, y_pred)\n",
    "sns.heatmap(confusion, annot=True)\n",
    "# Plot non-normalized confusion matrix \n",
    "ax= plt.subplot()\n",
    "sns.heatmap(confusion, annot=True, fmt='g', ax=ax);  #annot=True to annotate cells, ftm='g' to disable scientific notation\n",
    "# labels, title and ticks\n",
    "ax.set_xlabel('Predicted labels');ax.set_ylabel('True labels'); \n",
    "ax.set_title('Confusion Matrix'); "
   ]
  },
  {
   "cell_type": "markdown",
   "metadata": {},
   "source": [
    "### Ada Boost"
   ]
  },
  {
   "cell_type": "markdown",
   "metadata": {},
   "source": [
    " Although the AdaBoost algorithm can be directly used to process imbalanced data, the algorithm focuses more on the misclassified samples than samples of minority class"
   ]
  },
  {
   "cell_type": "code",
   "execution_count": 24,
   "metadata": {
    "ExecuteTime": {
     "end_time": "2021-10-28T15:29:19.742103Z",
     "start_time": "2021-10-28T15:29:19.317142Z"
    }
   },
   "outputs": [
    {
     "name": "stdout",
     "output_type": "stream",
     "text": [
      "              precision    recall  f1-score   support\n",
      "\n",
      "           0       0.53      0.22      0.31       382\n",
      "           1       0.93      0.98      0.96      4336\n",
      "\n",
      "    accuracy                           0.92      4718\n",
      "   macro avg       0.73      0.60      0.63      4718\n",
      "weighted avg       0.90      0.92      0.91      4718\n",
      "\n"
     ]
    },
    {
     "data": {
      "image/png": "[encoded data removed]",
      "text/plain": [
       "<Figure size 432x288 with 2 Axes>"
      ]
     },
     "metadata": {
      "needs_background": "light"
     },
     "output_type": "display_data"
    }
   ],
   "source": [
    "abc = AdaBoostClassifier(n_estimators=10,learning_rate=1)\n",
    "model = abc.fit(X_train, y_train)\n",
    "y_pred = model.predict(X_test)\n",
    "\n",
    "print(classification_report(y_test,y_pred))\n",
    "confusion=confusion_matrix(y_test, y_pred)\n",
    "sns.heatmap(confusion, annot=True)\n",
    "# Plot non-normalized confusion matrix \n",
    "ax= plt.subplot()\n",
    "sns.heatmap(confusion, annot=True, fmt='g', ax=ax);  #annot=True to annotate cells, ftm='g' to disable scientific notation\n",
    "# labels, title and ticks\n",
    "ax.set_xlabel('Predicted labels');ax.set_ylabel('True labels'); \n",
    "ax.set_title('Confusion Matrix'); "
   ]
  },
  {
   "cell_type": "markdown",
   "metadata": {
    "ExecuteTime": {
     "end_time": "2021-10-26T16:32:29.578694Z",
     "start_time": "2021-10-26T16:32:29.568680Z"
    }
   },
   "source": [
    "Summarizing, we have seen that AdaBoost is a very competitive algorithm for this application. Despite the difficulties of class imbalance, this\n",
    "ensemble method has managed to achieve top performance with the rankings\n",
    "it produces.\n"
   ]
  },
  {
   "cell_type": "markdown",
   "metadata": {},
   "source": [
    "## Semi-supervised learning"
   ]
  },
  {
   "cell_type": "code",
   "execution_count": 25,
   "metadata": {
    "ExecuteTime": {
     "end_time": "2021-10-28T15:29:40.547834Z",
     "start_time": "2021-10-28T15:29:40.530831Z"
    }
   },
   "outputs": [],
   "source": [
    "X=X.values \n",
    "y=y.values "
   ]
  },
  {
   "cell_type": "code",
   "execution_count": 26,
   "metadata": {
    "ExecuteTime": {
     "end_time": "2021-10-28T15:29:42.083984Z",
     "start_time": "2021-10-28T15:29:42.061187Z"
    }
   },
   "outputs": [],
   "source": [
    "#Unlabeled samples should have the label -1.\n",
    "mask = sales.Insp ==2\n",
    "column_name = 'Insp'\n",
    "sales.loc[mask, column_name] = -1"
   ]
  },
  {
   "cell_type": "code",
   "execution_count": 27,
   "metadata": {
    "ExecuteTime": {
     "end_time": "2021-10-28T15:29:42.949914Z",
     "start_time": "2021-10-28T15:29:42.926192Z"
    }
   },
   "outputs": [
    {
     "data": {
      "text/plain": [
       "-1    384478\n",
       " 1     14458\n",
       " 0      1268\n",
       "Name: Insp, dtype: int64"
      ]
     },
     "execution_count": 27,
     "metadata": {},
     "output_type": "execute_result"
    }
   ],
   "source": [
    "sales[\"Insp\"].value_counts()"
   ]
  },
  {
   "cell_type": "code",
   "execution_count": 28,
   "metadata": {
    "ExecuteTime": {
     "end_time": "2021-10-28T15:29:45.310755Z",
     "start_time": "2021-10-28T15:29:45.271426Z"
    }
   },
   "outputs": [],
   "source": [
    "sales_unlab=sales[sales.Insp ==-1 ]"
   ]
  },
  {
   "cell_type": "code",
   "execution_count": 29,
   "metadata": {
    "ExecuteTime": {
     "end_time": "2021-10-28T15:29:46.722367Z",
     "start_time": "2021-10-28T15:29:46.700367Z"
    }
   },
   "outputs": [],
   "source": [
    "X_unlab=sales_unlab[[\"ID\",\"Prod\",\"Uprice\"]]\n",
    "y_unlab=sales_unlab[\"Insp\"]\n",
    "X_unlab=X_unlab.values\n",
    "y_unlab=y_unlab.values"
   ]
  },
  {
   "cell_type": "markdown",
   "metadata": {},
   "source": [
    "### GaussianNB"
   ]
  },
  {
   "cell_type": "code",
   "execution_count": 42,
   "metadata": {
    "ExecuteTime": {
     "end_time": "2021-10-28T15:40:48.008565Z",
     "start_time": "2021-10-28T15:40:47.996572Z"
    }
   },
   "outputs": [],
   "source": [
    "gnb = GaussianNB()\n",
    "self_training_model = SelfTrainingClassifier(gnb)"
   ]
  },
  {
   "cell_type": "code",
   "execution_count": 43,
   "metadata": {
    "ExecuteTime": {
     "end_time": "2021-10-28T15:40:50.654756Z",
     "start_time": "2021-10-28T15:40:49.690449Z"
    }
   },
   "outputs": [],
   "source": [
    "cv = KFold(n_splits=3)\n",
    "recall_list0 = []\n",
    "recall_list1 = []\n",
    "precision_list0=[]\n",
    "precision_list1=[]\n",
    "f1_list0=[]\n",
    "f1_list1=[]\n",
    "accuracy_list = []\n",
    "for train_indices, test_indices in cv.split(X):\n",
    "        x_train, x_test = X[train_indices], X[test_indices]\n",
    "        y_train, y_test = y[train_indices], y[test_indices]\n",
    "        X_train_mixed = concatenate((x_train, X_unlab))\n",
    "        y_train_mixed = concatenate((y_train,y_unlab))\n",
    "        self_training_model.fit(X_train_mixed, y_train_mixed)\n",
    "        y_pred=self_training_model.predict(x_test)\n",
    "        p_score= precision_score(y_test,y_pred,average=None)\n",
    "        r_score= recall_score(y_test,y_pred,average=None)\n",
    "        f1_sscore= f1_score(y_test,y_pred,average=None)\n",
    "        accuracy= accuracy_score(y_test,y_pred)\n",
    "        accuracy_list.append(accuracy)\n",
    "        recall_list0.append(r_score[0])\n",
    "        recall_list1.append(r_score[1])\n",
    "        precision_list0.append(p_score[0])\n",
    "        precision_list1.append(p_score[1])\n",
    "        f1_list0.append(f1_sscore[0])\n",
    "        f1_list1.append(f1_sscore[1])\n",
    "\n",
    "acc_score=np.mean(accuracy_list)\n",
    "pre0_score=np.mean(precision_list0)\n",
    "pre1_score=np.mean(precision_list1)\n",
    "rec0_score=np.mean(recall_list0)\n",
    "rec1_score=np.mean(recall_list1)\n",
    "f10_score=np.mean(f1_list0)\n",
    "f111_score=np.mean(f1_list1)"
   ]
  },
  {
   "cell_type": "code",
   "execution_count": 44,
   "metadata": {
    "ExecuteTime": {
     "end_time": "2021-10-28T15:40:51.870006Z",
     "start_time": "2021-10-28T15:40:51.848049Z"
    }
   },
   "outputs": [
    {
     "name": "stdout",
     "output_type": "stream",
     "text": [
      "+-------+-----------+--------+------+----------+\n",
      "| Class | Precision | Recall |  F1  | Accuracy |\n",
      "+-------+-----------+--------+------+----------+\n",
      "|   0   |    0.45   |  0.21  | 0.24 |          |\n",
      "|   1   |    0.93   |  0.97  | 0.95 |          |\n",
      "|       |           |        |      |   0.90   |\n",
      "+-------+-----------+--------+------+----------+\n"
     ]
    }
   ],
   "source": [
    "from prettytable import PrettyTable \n",
    "  \n",
    "# Specify the Column Names while initializing the Table \n",
    "myTable = PrettyTable([\"Class\", \"Precision\", \"Recall\", \"F1\", \"Accuracy\"]) \n",
    "  \n",
    "# Add rows \n",
    "myTable.add_row([\"0\", \"{:.2f}\".format(pre0_score),\"{:.2f}\".format(rec0_score), \"{:.2f}\".format(f10_score),\"\"]) \n",
    "myTable.add_row([\"1\",\"{:.2f}\".format( pre1_score), \"{:.2f}\".format(rec1_score), \"{:.2f}\".format(f111_score),\"\"]) \n",
    "myTable.add_row([\"\", \"\", \"\",\"\", \"{:.2f}\".format(acc_score)]) \n",
    "print(myTable)"
   ]
  },
  {
   "cell_type": "markdown",
   "metadata": {},
   "source": [
    "### Ada Boost"
   ]
  },
  {
   "cell_type": "code",
   "execution_count": 38,
   "metadata": {
    "ExecuteTime": {
     "end_time": "2021-10-28T15:39:36.564532Z",
     "start_time": "2021-10-28T15:39:36.547476Z"
    }
   },
   "outputs": [],
   "source": [
    "abc = AdaBoostClassifier(n_estimators=10,learning_rate=1)\n",
    "self_training_model = SelfTrainingClassifier(abc)"
   ]
  },
  {
   "cell_type": "code",
   "execution_count": 39,
   "metadata": {
    "ExecuteTime": {
     "end_time": "2021-10-28T15:39:41.676754Z",
     "start_time": "2021-10-28T15:39:39.643081Z"
    }
   },
   "outputs": [],
   "source": [
    "cv = KFold(n_splits=3)\n",
    "recall_list0 = []\n",
    "recall_list1 = []\n",
    "precision_list0=[]\n",
    "precision_list1=[]\n",
    "f1_list0=[]\n",
    "f1_list1=[]\n",
    "accuracy_list = []\n",
    "for train_indices, test_indices in cv.split(X):\n",
    "        x_train, x_test = X[train_indices], X[test_indices]\n",
    "        y_train, y_test = y[train_indices], y[test_indices]\n",
    "        X_train_mixed = concatenate((x_train, X_unlab))\n",
    "        y_train_mixed = concatenate((y_train,y_unlab))\n",
    "        self_training_model.fit(X_train_mixed, y_train_mixed)\n",
    "        y_pred=self_training_model.predict(x_test)\n",
    "        p_score= precision_score(y_test,y_pred,average=None)\n",
    "        r_score= recall_score(y_test,y_pred,average=None)\n",
    "        f1_sscore= f1_score(y_test,y_pred,average=None)\n",
    "        accuracy= accuracy_score(y_test,y_pred)\n",
    "        accuracy_list.append(accuracy)\n",
    "        recall_list0.append(r_score[0])\n",
    "        recall_list1.append(r_score[1])\n",
    "        precision_list0.append(p_score[0])\n",
    "        precision_list1.append(p_score[1])\n",
    "        f1_list0.append(f1_sscore[0])\n",
    "        f1_list1.append(f1_sscore[1])\n",
    "\n",
    "acc_score=np.mean(accuracy_list)\n",
    "pre0_score=np.mean(precision_list0)\n",
    "pre1_score=np.mean(precision_list1)\n",
    "rec0_score=np.mean(recall_list0)\n",
    "rec1_score=np.mean(recall_list1)\n",
    "f10_score=np.mean(f1_list0)\n",
    "f111_score=np.mean(f1_list1)"
   ]
  },
  {
   "cell_type": "code",
   "execution_count": 41,
   "metadata": {
    "ExecuteTime": {
     "end_time": "2021-10-28T15:40:33.189229Z",
     "start_time": "2021-10-28T15:40:33.171233Z"
    }
   },
   "outputs": [
    {
     "name": "stdout",
     "output_type": "stream",
     "text": [
      "+-------+-----------+--------+------+----------+\n",
      "| Class | Precision | Recall |  F1  | Accuracy |\n",
      "+-------+-----------+--------+------+----------+\n",
      "|   0   |    0.45   |  0.29  | 0.30 |          |\n",
      "|   1   |    0.94   |  0.94  | 0.94 |          |\n",
      "|       |           |        |      |   0.88   |\n",
      "+-------+-----------+--------+------+----------+\n"
     ]
    }
   ],
   "source": [
    "from prettytable import PrettyTable \n",
    "  \n",
    "# Specify the Column Names while initializing the Table \n",
    "myTable = PrettyTable([\"Class\", \"Precision\", \"Recall\", \"F1\", \"Accuracy\"]) \n",
    "  \n",
    "# Add rows \n",
    "myTable.add_row([\"0\", \"{:.2f}\".format(pre0_score),\"{:.2f}\".format(rec0_score), \"{:.2f}\".format(f10_score),\"\"]) \n",
    "myTable.add_row([\"1\",\"{:.2f}\".format( pre1_score), \"{:.2f}\".format(rec1_score), \"{:.2f}\".format(f111_score),\"\"]) \n",
    "myTable.add_row([\"\", \"\", \"\",\"\", \"{:.2f}\".format(acc_score)]) \n",
    "print(myTable)"
   ]
  }
 ],
 "metadata": {
  "kernelspec": {
   "display_name": "Python 3 (ipykernel)",
   "language": "python",
   "name": "python3"
  },
  "language_info": {
   "codemirror_mode": {
    "name": "ipython",
    "version": 3
   },
   "file_extension": ".py",
   "mimetype": "text/x-python",
   "name": "python",
   "nbconvert_exporter": "python",
   "pygments_lexer": "ipython3",
   "version": "3.8.12"
  },
  "latex_envs": {
   "LaTeX_envs_menu_present": true,
   "autoclose": false,
   "autocomplete": true,
   "bibliofile": "biblio.bib",
   "cite_by": "apalike",
   "current_citInitial": 1,
   "eqLabelWithNumbers": true,
   "eqNumInitial": 1,
   "hotkeys": {
    "equation": "Ctrl-E",
    "itemize": "Ctrl-I"
   },
   "labels_anchors": false,
   "latex_user_defs": false,
   "report_style_numbering": false,
   "user_envs_cfg": false
  },
  "toc": {
   "base_numbering": 1,
   "nav_menu": {},
   "number_sections": true,
   "sideBar": true,
   "skip_h1_title": false,
   "title_cell": "Table of Contents",
   "title_sidebar": "Contents",
   "toc_cell": false,
   "toc_position": {},
   "toc_section_display": true,
   "toc_window_display": false
  },
  "varInspector": {
   "cols": {
    "lenName": 16,
    "lenType": 16,
    "lenVar": 40
   },
   "kernels_config": {
    "python": {
     "delete_cmd_postfix": "",
     "delete_cmd_prefix": "del ",
     "library": "var_list.py",
     "varRefreshCmd": "print(var_dic_list())"
    },
    "r": {
     "delete_cmd_postfix": ") ",
     "delete_cmd_prefix": "rm(",
     "library": "var_list.r",
     "varRefreshCmd": "cat(var_dic_list()) "
    }
   },
   "types_to_exclude": [
    "module",
    "function",
    "builtin_function_or_method",
    "instance",
    "_Feature"
   ],
   "window_display": false
  }
 },
 "nbformat": 4,
 "nbformat_minor": 4
}
